{
 "cells": [
  {
   "attachments": {},
   "cell_type": "markdown",
   "metadata": {},
   "source": [
    "<!-- %%%%%%%%%%%%%%%%%%%%%%%%%%%%%%%%%%%%%%%%%%%%%%%%%%%%%%%%%%%%%%%%%%%%%%%%\n",
    "% Calculate a theoretical OTF for a structured illumination microscope %\n",
    "% James Manton, 2019\n",
    "% Modified by Antone Bajor 2022 to generate synthetic modulated psf and for\n",
    "% Synthetic data for SIM Reconstruction\n",
    "% Pupil calculations http://kmdouglass.github.io/posts/simple-pupil-function-calculations/\n",
    "%%%%%%%%%%%%%%%%%%%%%%%%%%%%%%%%%%%%%%%%%%%%%%%%%%%%%%%%%%%%%%%%%%%%%%%% -->\n",
    "\n",
    "<!-- Originally Matlab Code refactored for python by Antone Bajor 2023 -->\n",
    "<!-- The Orignial Matlab Code is much faster -->"
   ]
  },
  {
   "cell_type": "code",
   "execution_count": 1,
   "metadata": {},
   "outputs": [],
   "source": [
    "import numpy as np\n",
    "from numpy import fft\n",
    "from numpy import matlib\n",
    "#import cupy as cp\n",
    "import tifffile as tff\n",
    "import math\n",
    "import deconvtools as dt # https://github.com/AllenInstitute/render-python-apps/blob/master/renderapps/intensity_correction/deconvtools.py"
   ]
  },
  {
   "attachments": {},
   "cell_type": "markdown",
   "metadata": {},
   "source": [
    "Some configuration flags etc."
   ]
  },
  {
   "cell_type": "code",
   "execution_count": 2,
   "metadata": {},
   "outputs": [],
   "source": [
    "INTERFEROMETRIC_DETECTION = False\n",
    "SAVE_IMAGES = True\n",
    "SAVE_OTF = True\n",
    "SAVE_PSF = True\n",
    "root_name = '3DSIM'\n",
    "\n"
   ]
  },
  {
   "attachments": {},
   "cell_type": "markdown",
   "metadata": {},
   "source": [
    "%% Simulation parameters\n",
    "%% Values for our system\n",
    "%% Odd value gives a center point and center planes.\n",
    "%% If Odd value isn't used modulation field will have a diagonal drift"
   ]
  },
  {
   "cell_type": "code",
   "execution_count": 3,
   "metadata": {},
   "outputs": [],
   "source": [
    "field_size = 513 #The 3D voxel count NxNxN                                                                                                                                                                                        ;\n",
    "numerical_aperture_primary = 1.3 #1.3; %% Numerical Aperture of the Objective\n",
    "numerical_aperture_detection = numerical_aperture_primary\n",
    "numerical_aperture_secondary = numerical_aperture_primary\n",
    "refractive_index = 1.4 #1.518;%1.4; %% Refractive Index of the immersion oil"
   ]
  },
  {
   "attachments": {},
   "cell_type": "markdown",
   "metadata": {},
   "source": [
    "%% For Generating PSF and OTF use emmision wavelength\n",
    "%% For Generating Modulation Field use excitation wavelength"
   ]
  },
  {
   "cell_type": "code",
   "execution_count": 16,
   "metadata": {},
   "outputs": [],
   "source": [
    "wave_length = 488e-9 #525e-9;\n",
    "slm_pixel_size = 9.2e-6 # %% Structured Light Modulator Pixel size\n",
    "pixels_per_period = 14 # %% Period of pattern\n",
    "f_tubelens = 180e-3 # %% Focal Length of Tube Lens\n",
    "mag_obj = 60        # %% Magnification of Tube Lens\n",
    "f_objective = f_tubelens/mag_obj # %% Focal Length of Objective\n",
    "\n",
    "f_slm_lens = 800e-3 #610e-3;%500e-3;%610e-3; %% Focal Length of the SLM\n",
    "\n",
    "rd = f_objective * numerical_aperture_primary # %% Pupil Radius\n",
    "\n",
    "#%% Difraction angle of 1st orders\n",
    "theta_1st = math.asin(wave_length/(slm_pixel_size*pixels_per_period))\n",
    "r_1st = np.tan(theta_1st)*f_slm_lens # %% Radius of 1st orders in pupil"
   ]
  },
  {
   "attachments": {},
   "cell_type": "markdown",
   "metadata": {},
   "source": [
    "%% For best performance pixel pitch will need to be compared with the ability to laterally shift simulated modulation period by desired amount, jumps in shift will cause funny seperation bands, due to the fact that the 3D SIM seperation matrix expects equidistant phase shifts."
   ]
  },
  {
   "cell_type": "code",
   "execution_count": 21,
   "metadata": {},
   "outputs": [
    {
     "name": "stdout",
     "output_type": "stream",
     "text": [
      "freq_NA: 2663934.426229508, freq_samp: 33333333.333333336, dFreq: 64977.25795971411\n",
      "pupilRad: 40.99795081967213\n",
      "sphereRad_NIMM: 44.15163934426228\n",
      "pupil_per_rad: 0.15983606557377047\n",
      "half angle alpha: 68.21321070173822\n",
      "should be same: 68.21321070173822\n",
      "sphere_rad: 44.151639344262286\n",
      "sphere_per_rad: 0.17246734118852455\n",
      "spot_radius: 1306.3415981720761\n",
      "spot_radius per: 31.863582741439156\n",
      "pupHeight: 16.387046267511266\n",
      "height_z: 27.76459307675102\n",
      "********** IMPORTATN **********\n",
      "freq_kz: 882971.2514009865, freq_kxy: 2070408.2353111864\n",
      "course period kz: 1132.5397043372898nm, course period kxy: 482.9965332173721nm\n",
      "*******************************\n"
     ]
    }
   ],
   "source": [
    "pix_pitch = 30e-9 # %% Sampling of pixels (use at most 1/2 actual camera sensor for simulation)\n",
    "wl_str = \"{:.0f}\".format(wave_length*1e9) + 'nm_pix_pitch_' + \"{:.0f}\".format(pix_pitch*1e9) + 'nm_pix field_' + str(field_size)\n",
    "freq_NA = numerical_aperture_primary/wave_length #High frequency supported by system 1/m\n",
    "freq_NIMM = refractive_index/wave_length\n",
    "freq_samp = 1/pix_pitch #sampling frequency\n",
    "dFreq = freq_samp/(field_size) # 1/(m*pix)\n",
    "pupilRad = (freq_NA/dFreq) # pupil radius in pixels\n",
    "sphereRad = freq_NIMM/dFreq\n",
    "pupil_per_rad = pupilRad/((field_size)/2) # % percent of 1/2 field radius\n",
    "prim_a_r = math.asin(numerical_aperture_primary/refractive_index) # % half angle alpha\n",
    "sphere_rad = pupilRad/np.sin(prim_a_r)\n",
    "sphere_per_rad = sphere_rad/((field_size - 1)/2) # % Radius of sphere that defines spherical cap\n",
    "spot_radius_per = r_1st / rd # % 1st order spot radius in percentage of pupil radius\n",
    "spot_radius = pupilRad*spot_radius_per\n",
    "pupHeight = sphere_rad*np.cos(prim_a_r) # %% Height to the bottom of spherical cap\n",
    "height_z = sphere_rad - pupHeight # %% Height of the spherical cap\n",
    "theta = np.arccos(spot_radius/sphere_rad)\n",
    "spot_height = spot_radius*np.tan(theta)\n",
    "zero_height = sphere_rad - spot_height\n",
    "freq_kz = zero_height*dFreq\n",
    "freq_kxy = spot_radius*dFreq\n",
    "\n",
    "print('freq_NA: ' + str(freq_NA) + ', freq_samp: ' + str(freq_samp) + ', dFreq: ' + str(dFreq))\n",
    "print('pupilRad: ' + str(pupilRad))\n",
    "print('sphereRad_NIMM: ' + str(sphereRad))\n",
    "print('pupil_per_rad: ' + str(pupil_per_rad))\n",
    "print('half angle alpha: ' + str(prim_a_r*180/math.pi))\n",
    "print('should be same: ' + str(math.asin(pupilRad/sphereRad)*180/math.pi))\n",
    "print('sphere_rad: ' + str(sphere_rad))\n",
    "print('sphere_per_rad: ' + str(sphere_per_rad))\n",
    "print('spot_radius: ' + str(pupilRad*spot_radius))\n",
    "print('spot_radius per: ' + str(spot_radius))\n",
    "print('pupHeight: ' + str(pupHeight))\n",
    "print('height_z: ' + str(height_z))\n",
    "print('********** IMPORTATN **********') # Meme game too stronk\n",
    "print('freq_kz: ' + str(freq_kz) + ', freq_kxy: ' + str(freq_kxy))\n",
    "print('course period kz: ' + str(1/freq_kz*1e9) + 'nm, course period kxy: ' + str(1/freq_kxy*1e9) + 'nm')\n",
    "print('*******************************')\n"
   ]
  },
  {
   "attachments": {},
   "cell_type": "markdown",
   "metadata": {},
   "source": [
    "Create Coordinates for voxel volume"
   ]
  },
  {
   "cell_type": "code",
   "execution_count": 6,
   "metadata": {},
   "outputs": [],
   "source": [
    "\n",
    "lim = field_size - (field_size + 1)/2\n",
    "x = np.arange(-lim,lim + 1, 1, dtype=np.float32)\n",
    "y = np.arange(-lim,lim + 1, 1, dtype=np.float32)\n",
    "z = np.arange(-lim,lim + 1, 1, dtype=np.float32)\n",
    "[X, Y, Z] = np.meshgrid(x, y, z, indexing='ij')\n",
    "R = (np.sqrt(X**2 + Y**2 + Z**2)).astype(np.float32)\n",
    "phi = (np.arctan2(X, Y) * 180 / np.pi).astype(np.float32)\n",
    "theta = (np.arctan2(X, Z) * 180 / np.pi).astype(np.float32)\n",
    "\n",
    "# %% this gives a 3D cylindrical column representing percentage of radius\n",
    "R = R / np.max(x)\n",
    "r = np.sqrt(X**2 + Y**2)\n",
    "\n",
    "# %% This gives a radius of the field as a percentage\n",
    "r = r / np.max(x)"
   ]
  },
  {
   "cell_type": "code",
   "execution_count": 7,
   "metadata": {},
   "outputs": [
    {
     "name": "stdout",
     "output_type": "stream",
     "text": [
      "x.shape: (513,)\n",
      "r.shape: (513, 513, 513)\n",
      "R.shape: (513, 513, 513)\n",
      "Z.shape: (513, 513, 513)\n",
      "Y.shape: (513, 513, 513)\n",
      "135005697\n"
     ]
    }
   ],
   "source": [
    "print('x.shape: ' + str(x.shape))\n",
    "print('r.shape: ' + str(r.shape))\n",
    "print('R.shape: ' + str(R.shape))\n",
    "print('Z.shape: ' + str(Z.shape))\n",
    "print('Y.shape: ' + str(Y.shape))\n",
    "print(R.size)"
   ]
  },
  {
   "attachments": {},
   "cell_type": "markdown",
   "metadata": {},
   "source": [
    "Build the Pupil"
   ]
  },
  {
   "cell_type": "code",
   "execution_count": 8,
   "metadata": {},
   "outputs": [
    {
     "name": "stdout",
     "output_type": "stream",
     "text": [
      "past ravel loop\n"
     ]
    }
   ],
   "source": [
    "# % Detection OTF\n",
    "r = np.swapaxes(r, 0, 2)\n",
    "detection_pupil = np.zeros((field_size, field_size, field_size)).astype(np.float32)\n",
    "detection_pupil[r < pupil_per_rad] = 1 # %% generates the detection pupil\n",
    "tff.imwrite('detection_pupil_' + wl_str + str(pixels_per_period) + 'pix_3D.tif', np.abs(detection_pupil).astype(np.float32))\n",
    "detection_ctf = np.zeros((field_size, field_size, field_size)).astype(np.complex64)\n",
    "R = np.ravel(np.swapaxes(R, 0, 2))\n",
    "Z = np.ravel(np.swapaxes(Z, 0, 2))\n",
    "detection_pupil = np.ravel(detection_pupil)\n",
    "detection_ctf = np.ravel(detection_ctf)\n",
    "\n",
    "# %% The Else Statement generates the sphereical cap, not using interferometric detection\n",
    "if INTERFEROMETRIC_DETECTION:\n",
    "    detection_ctf[R < (sphere_per_rad) & R > (sphere_per_rad - 0.01) & detection_pupil > 0] = 1\n",
    "else:\n",
    "    mask = (R < (sphere_per_rad + 0.01)) & (R > (sphere_per_rad)) & (detection_pupil > 0) &  (Z < 0)\n",
    "    detection_ctf[mask == True] = 1\n",
    "print('past ravel loop')\n",
    "detection_ctf = np.reshape(detection_ctf, [field_size, field_size, field_size])\n",
    "\n",
    "#%detection_ctf = imgaussfilt3(detection_ctf);\n",
    "tff.imwrite('detection_ctf' + wl_str + str(pixels_per_period) + 'pix_3D.tif', np.abs(detection_ctf).astype(np.float32))\n",
    "\n",
    "#%% This generates the OTF auto corelation\n",
    "detection_otf = (fft.fftshift(fft.ifftn(fft.fftn(detection_ctf) * np.conj(fft.fftn(detection_ctf)))))\n",
    "\n",
    "if (SAVE_OTF):\n",
    "    detection_otf[detection_otf < 0] = 0\n",
    "    tff.imwrite('detection' + '_otf_' + 'float_' +  wl_str + str(pixels_per_period) + 'pix_3D.tif', np.abs(detection_otf).astype(np.float32))"
   ]
  },
  {
   "attachments": {},
   "cell_type": "markdown",
   "metadata": {},
   "source": [
    "This is where the modulation field is generated."
   ]
  },
  {
   "cell_type": "code",
   "execution_count": 9,
   "metadata": {},
   "outputs": [
    {
     "name": "stdout",
     "output_type": "stream",
     "text": [
      "(513, 513, 513)\n"
     ]
    }
   ],
   "source": [
    "# %% Primary OTF\n",
    "\n",
    "primary_pupil = np.zeros((field_size, field_size, field_size)).astype(np.float32)\n",
    "# primary_pupil = np.swapaxes(primary_pupil, 1, 2)\n",
    "\n",
    "# %% For some reason this part of the code uses the 1/2 (Field - 1) value for radius instead of r array\n",
    "# %% This first part of the code generates the 1st order spots extruded through z axis\n",
    "\n",
    "Y = (np.swapaxes(Y, 0, 2))\n",
    "X = (np.swapaxes(X, 0, 2))\n",
    "\n",
    "Y = np.ravel(np.swapaxes(Y,2, 1))\n",
    "X = np.ravel(np.swapaxes(X, 2, 1))\n",
    "# x = np.swapaxes(x, 0, 1)\n",
    "primary_pupil = np.ravel(primary_pupil)\n",
    "\n",
    "mask = (np.floor(abs(Y)) == np.round(np.max(x) * spot_radius * pupil_per_rad)) & (np.floor(X) == 0)\n",
    "primary_pupil[mask] = 1\n",
    "\n",
    "#%% This second part generates the 0th order spot extruded thorough z axis;\n",
    "primary_pupil[(np.floor(Y) == 0) & (np.floor(X) == 0)] = 1\n",
    "\n",
    "primary_ctf = np.zeros((field_size,field_size,field_size)).astype(np.complex64)\n",
    "primary_ctf = np.ravel(primary_ctf)\n",
    "\n",
    "#%% This takes the 3 beam orders \"primary_pupil\" and places them only where they intersect\n",
    "#%% Along the spherical shell using the pupil radius is incorrect since it defines a smaller\n",
    "#%% radius sphere, which gives incorrect axial modulation.\n",
    "primary_ctf[(R < (sphere_per_rad + 0.01)) & (R > (sphere_per_rad)) & (primary_pupil > 0) & (Z > 0)] = 1\n",
    "primary_ctf = np.reshape(primary_ctf, (field_size, field_size, field_size))\n",
    "primary_pupil = np.reshape(primary_pupil, (field_size, field_size, field_size))\n",
    "tff.imwrite('primary_pupil' + '_3D.tif', primary_pupil.astype(np.float32))\n",
    "\n",
    "# % Fix band weights\n",
    "primary_ctf_sum = np.repeat(matlib.repmat(np.sum(primary_ctf, 0), 1, 1)[np.newaxis,:,:], field_size, axis=0) # %% not sure this gives different value than primary_ctf in my application\n",
    "print(primary_ctf_sum.shape)\n",
    "tff.imwrite('primary_repmat' + '_3D.tif', np.abs(primary_ctf_sum).astype(np.float32))\n",
    "primary_ctf[primary_ctf > 0] = primary_ctf[primary_ctf > 0] / primary_ctf_sum[primary_ctf > 0]\n",
    "\n",
    "tff.imwrite('primary_ctf_' + wl_str + '_3D.tif',np.abs(primary_ctf).astype(np.float32))\n",
    "\n",
    "# %% This step generates the 7 beam spots that can been seen in the xz center plane\n",
    "# %% This defines the 3D sim intensity modulation field\n",
    "primary_otf = (fft.fftshift(fft.ifftn(fft.fftn(primary_ctf) * np.conj(fft.fftn(primary_ctf)))))\n",
    "tff.imwrite('modulation_otf_' + wl_str + '_3D.tif', np.abs(primary_otf).astype(np.float32))"
   ]
  },
  {
   "cell_type": "code",
   "execution_count": 10,
   "metadata": {},
   "outputs": [
    {
     "name": "stdout",
     "output_type": "stream",
     "text": [
      "min_modulation: 0.0\n"
     ]
    }
   ],
   "source": [
    "# %% Overall OTF\n",
    "\n",
    "# %% Converts detection otf to psf\n",
    "\n",
    "detection_psf = fft.fftshift(fft.fftn(detection_otf).astype(np.complex64))\n",
    "\n",
    "\n",
    "if (SAVE_PSF):\n",
    "   tff.imwrite('Detection_psf_' + wl_str + 'float' + '_3D.tif', np.abs(detection_psf).astype(np.float32))\n",
    "\n",
    "#%% Creates the realspace sim Modulation field\n",
    "modulation_field = dt.otf2psf(primary_otf, primary_otf.shape).astype(np.complex64)\n",
    "#%% Scales max intensity to 1, and removes checker board patterning taking abs value\n",
    "modulation_field = np.abs(modulation_field/np.max(modulation_field))\n",
    "\n",
    "min_modulation = np.min(modulation_field)\n",
    "print(\"min_modulation: \" + str(min_modulation)) # %% if this is 1 something went wrong\n",
    "tff.imwrite('modulation_field_' + wl_str + '_' + str(pixels_per_period) + 'pix_3D.tif',modulation_field)\n"
   ]
  }
 ],
 "metadata": {
  "kernelspec": {
   "display_name": "base",
   "language": "python",
   "name": "python3"
  },
  "language_info": {
   "codemirror_mode": {
    "name": "ipython",
    "version": 3
   },
   "file_extension": ".py",
   "mimetype": "text/x-python",
   "name": "python",
   "nbconvert_exporter": "python",
   "pygments_lexer": "ipython3",
   "version": "3.9.12"
  },
  "orig_nbformat": 4
 },
 "nbformat": 4,
 "nbformat_minor": 2
}
