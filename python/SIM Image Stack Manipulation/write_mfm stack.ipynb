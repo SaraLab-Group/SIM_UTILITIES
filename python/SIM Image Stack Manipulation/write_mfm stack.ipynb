{
 "cells": [
  {
   "cell_type": "code",
   "execution_count": 57,
   "metadata": {},
   "outputs": [],
   "source": [
    "import tifffile\n",
    "import math\n",
    "import numpy as np\n",
    "import ComputeGaussianPSF as CG\n",
    "\n",
    "import matplotlib.pyplot as plt"
   ]
  },
  {
   "cell_type": "code",
   "execution_count": 58,
   "metadata": {},
   "outputs": [],
   "source": [
    "filepath = 'D:\\\\SIM_Data\\\\Antone\\\\2022_8_22\\\\MFM Tubulin start angle 135degrees 144nm steps 1fps 488nm hama_2\\\\registered\\\\'\n",
    "writepath = 'stacked_planes\\\\'\n",
    "filename = 'Crop.tif' #don't include .tif suffix\n",
    "BL = tifffile.imread(filepath + 'BL_Registered2x.tif')\n",
    "BM = tifffile.imread(filepath + 'BM_Registered2x.tif')\n",
    "BR = tifffile.imread(filepath + 'BR_Registered2x.tif')\n",
    "ML = tifffile.imread(filepath + 'ML_Registered2x.tif')\n",
    "MM = tifffile.imread(filepath + 'MM2x.tif')\n",
    "MR = tifffile.imread(filepath + 'MR_Registered2x.tif')\n",
    "TL = tifffile.imread(filepath + 'TL_Registered2x.tif')\n",
    "TM = tifffile.imread(filepath + 'TM_Registered2x.tif')\n",
    "TR = tifffile.imread(filepath + 'TR_Registered2x.tif')\n",
    "\n",
    "IS_SIM = True\n"
   ]
  },
  {
   "cell_type": "code",
   "execution_count": 59,
   "metadata": {},
   "outputs": [
    {
     "name": "stdout",
     "output_type": "stream",
     "text": [
      "(210, 532, 532)\n",
      "210\n",
      "532\n",
      "532\n"
     ]
    }
   ],
   "source": [
    "\n",
    "print(MM.shape)\n",
    "dims = MM.shape\n",
    "print(dims[0])\n",
    "print(dims[1])\n",
    "print(dims[2])\n",
    "\n",
    "\n",
    "\n",
    "frame_div = 1\n",
    "\n",
    "\n",
    "\n",
    "if IS_SIM:\n",
    "    frame_div = 15\n",
    "\n",
    "a = np.zeros((9*frame_div,dims[2],dims[1])).astype(np.uint16)\n",
    "\n",
    "for i in range(dims[0]//frame_div):\n",
    "    for j in range(frame_div):\n",
    "        a[0*frame_div+j,:,:] = BL[i*frame_div + j,:,:]\n",
    "        a[1*frame_div+j,:,:] = BM[i*frame_div + j,:,:]\n",
    "        a[2*frame_div+j,:,:] = BR[i*frame_div + j,:,:]\n",
    "        a[3*frame_div+j,:,:] = ML[i*frame_div + j,:,:]\n",
    "        a[4*frame_div+j,:,:] = MM[i*frame_div + j,:,:]\n",
    "        a[5*frame_div+j,:,:] = MR[i*frame_div + j,:,:]\n",
    "        a[6*frame_div+j,:,:] = TL[i*frame_div + j,:,:]\n",
    "        a[7*frame_div+j,:,:] = TM[i*frame_div + j,:,:]\n",
    "        a[8*frame_div+j,:,:] = TR[i*frame_div + j,:,:]\n",
    "    \n",
    "    tifffile.imwrite(filepath + writepath + 'stack' + str(i) + '.tif', a)\n"
   ]
  }
 ],
 "metadata": {
  "kernelspec": {
   "display_name": "Python 3.9.12 ('base')",
   "language": "python",
   "name": "python3"
  },
  "language_info": {
   "codemirror_mode": {
    "name": "ipython",
    "version": 3
   },
   "file_extension": ".py",
   "mimetype": "text/x-python",
   "name": "python",
   "nbconvert_exporter": "python",
   "pygments_lexer": "ipython3",
   "version": "3.9.12"
  },
  "orig_nbformat": 4,
  "vscode": {
   "interpreter": {
    "hash": "bb468c6ec33ac23c0aba1501eca3a50f6bdb02e26efc183fcedc67fc0283e723"
   }
  }
 },
 "nbformat": 4,
 "nbformat_minor": 2
}
