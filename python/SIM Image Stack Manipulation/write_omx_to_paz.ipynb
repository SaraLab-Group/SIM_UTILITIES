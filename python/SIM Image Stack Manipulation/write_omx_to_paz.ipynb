{
 "cells": [
  {
   "cell_type": "code",
   "execution_count": 8,
   "metadata": {},
   "outputs": [],
   "source": [
    "import tifffile\n",
    "import math\n",
    "import numpy as np\n",
    "import ComputeGaussianPSF as CG\n",
    "\n",
    "import matplotlib.pyplot as plt"
   ]
  },
  {
   "cell_type": "code",
   "execution_count": 9,
   "metadata": {},
   "outputs": [],
   "source": [
    "filepath = '/run/media/imaging/Elmo_Pro/SIM_Data/2022_June_SIM_data/Elyra/220615 Beads/'\n",
    "filename = 'beadlawn_OMX'\n",
    "infile= filepath + filename + '.tif'\n",
    "my_im = tifffile.imread(infile)\n"
   ]
  },
  {
   "cell_type": "code",
   "execution_count": 10,
   "metadata": {},
   "outputs": [
    {
     "name": "stdout",
     "output_type": "stream",
     "text": [
      "(600, 1002, 1004)\n",
      "600\n",
      "1002\n",
      "1004\n",
      "(600, 1002, 1004)\n"
     ]
    }
   ],
   "source": [
    "\n",
    "print(my_im.shape)\n",
    "dims = my_im.shape\n",
    "print(dims[0])\n",
    "print(dims[1])\n",
    "print(dims[2])\n",
    "a = (np.zeros_like(my_im)).astype(np.uint16)\n",
    "print(a.shape)\n",
    "offset = 0\n",
    "# for i in range(15):\n",
    "#     for j in range(4):\n",
    "#         a[i + j*15,:,:] = my_im[i + j*15,:,:]\n",
    "\n",
    "\n",
    "\n",
    "a = np.reshape(my_im,(3,dims[0]//15,5,dims[1],dims[2]))\n",
    "a = np.swapaxes(a,0,1)\n",
    "a = np.reshape(a, (dims[0], dims[1], dims[2]))\n",
    "# plt.imshow(a[2,0,1]) \n",
    "outfile = filepath + filename + \"_paz.tif\"\n",
    "# with tifffile.TiffWriter('temp.tif') as tif:\n",
    "#   for i in range(4):\n",
    "#     filename = f\"image_{i}\"\n",
    "#     img = np.random.randint(0, 1023, (256, 256), 'uint16')\n",
    "#     tif.save(img, photometric='minisblack', description=filename)\n",
    "tifffile.imwrite(outfile,a, imagej=True)"
   ]
  },
  {
   "cell_type": "code",
   "execution_count": 11,
   "metadata": {},
   "outputs": [
    {
     "data": {
      "text/plain": [
       "<matplotlib.image.AxesImage at 0x7f56b2420a30>"
      ]
     },
     "execution_count": 11,
     "metadata": {},
     "output_type": "execute_result"
    },
    {
     "data": {
      "image/png": "[encoded data removed]",
      "text/plain": [
       "<Figure size 432x288 with 1 Axes>"
      ]
     },
     "metadata": {
      "needs_background": "light"
     },
     "output_type": "display_data"
    },
    {
     "data": {
      "image/png": "[encoded data removed]",
      "text/plain": [
       "<Figure size 432x288 with 1 Axes>"
      ]
     },
     "metadata": {
      "needs_background": "light"
     },
     "output_type": "display_data"
    }
   ],
   "source": [
    "im_fft = np.fft.fft2(my_im[0,:,:])\n",
    "im_fft_shft = np.fft.fftshift(im_fft)\n",
    "# im_fft = np.fft.fftshift(my_im)\n",
    "plt.imshow(np.abs(im_fft_shft))\n",
    "plt.figure(2)\n",
    "plt.imshow(np.abs(im_fft))"
   ]
  }
 ],
 "metadata": {
  "kernelspec": {
   "display_name": "Python 3.9.12 ('m25-py39')",
   "language": "python",
   "name": "python3"
  },
  "language_info": {
   "codemirror_mode": {
    "name": "ipython",
    "version": 3
   },
   "file_extension": ".py",
   "mimetype": "text/x-python",
   "name": "python",
   "nbconvert_exporter": "python",
   "pygments_lexer": "ipython3",
   "version": "3.9.12"
  },
  "orig_nbformat": 4,
  "vscode": {
   "interpreter": {
    "hash": "9be5e794d8e51b75dcf6af525bf9de7025a0bd78f2384e708a44e57ede3e6257"
   }
  }
 },
 "nbformat": 4,
 "nbformat_minor": 2
}
