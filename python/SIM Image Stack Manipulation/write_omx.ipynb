{
 "cells": [
  {
   "cell_type": "code",
   "execution_count": 1,
   "metadata": {},
   "outputs": [],
   "source": [
    "import tifffile\n",
    "from tifffile import TiffFile\n",
    "from tifffile.tifffile import imagej_description_metadata\n",
    "import math\n",
    "import numpy as np\n",
    "import ComputeGaussianPSF as CG\n",
    "\n",
    "import matplotlib.pyplot as plt"
   ]
  },
  {
   "cell_type": "code",
   "execution_count": 2,
   "metadata": {},
   "outputs": [
    {
     "name": "stdout",
     "output_type": "stream",
     "text": [
      "(420, 1024, 1024)\n",
      "3\n",
      "420\n",
      "1024\n",
      "1024\n",
      "(420, 1024, 1024)\n"
     ]
    }
   ],
   "source": [
    "filepath = '/run/media/imaging/Elmo_Pro/SIM_Data/Antone/2022_8_5/actin 488 hammy_1/'\n",
    "filename = 'actin 488 hammy_1_MMStack_Pos0.ome'\n",
    "infile= filepath + filename + '.tif'\n",
    "# my_im = tifffile.imread(infile)\n",
    "with TiffFile(infile) as tif:\n",
    "    assert tif.is_imagej\n",
    "    # print detailed information about the file\n",
    "    # print(tif.__str__(detail=2))\n",
    "    # get image resolution from TIFF tags\n",
    "    tags = tif.pages[0].tags\n",
    "    x_resolution = tags['XResolution'].value\n",
    "    y_resolution = tags['YResolution'].value\n",
    "    #z_resolution = tags['ZResolution'].value\n",
    "    resolution_unit = tags['ResolutionUnit'].value\n",
    "\n",
    "    my_im = tifffile.imread(infile)\n",
    "    print(my_im.shape)\n",
    "    dims = my_im.shape\n",
    "    print(len(dims))\n",
    "    print(dims[0])\n",
    "    print(dims[1])\n",
    "    print(dims[2])\n",
    "    a = (np.zeros_like(my_im)).astype(np.uint16)\n",
    "    print(a.shape)\n",
    "    # for i in range(15):\n",
    "    #     for j in range(4):\n",
    "    #         a[i + j*15,:,:] = my_im[i + j*15,:,:]\n",
    "\n",
    "\n",
    "\n",
    "    if(len(dims) < 4):\n",
    "        a = np.reshape(my_im,(dims[0]//15,3,5,dims[1],dims[2]))\n",
    "    else:\n",
    "        a = np.copy(my_im)\n",
    "        # a = np.reshape(my_im,(dims[0]//15,3,5,dims[1],dims[2]))\n",
    "    a = np.swapaxes(a,0,1)\n",
    "\n",
    "    ### not sure if I want to linearlize the stack\n",
    "    # if(len(dims) < 4):\n",
    "    #     a = np.reshape(a, (dims[0], dims[1], dims[2]))\n",
    "\n",
    "    # plt.imshow(a[2,0,1]) \n",
    "    outfile = filepath + filename + \"_omx.tif\"\n",
    "    # with tifffile.TiffWriter('temp.tif') as tif:\n",
    "    #   for i in range(4):\n",
    "    #     filename = f\"image_{i}\"\n",
    "    #     img = np.random.randint(0, 1023, (256, 256), 'uint16')\n",
    "    #     tif.save(img, photometric='minisblack', description=filename)\n",
    "    tifffile.imwrite(outfile,a, resolution=(x_resolution, y_resolution, resolution_unit),imagej=True)\n"
   ]
  },
  {
   "cell_type": "code",
   "execution_count": null,
   "metadata": {},
   "outputs": [],
   "source": [
    "\n"
   ]
  },
  {
   "cell_type": "code",
   "execution_count": 3,
   "metadata": {},
   "outputs": [
    {
     "data": {
      "text/plain": [
       "<matplotlib.image.AxesImage at 0x7f09973fd610>"
      ]
     },
     "execution_count": 3,
     "metadata": {},
     "output_type": "execute_result"
    },
    {
     "data": {
      "image/png": "[encoded data removed]",
      "text/plain": [
       "<Figure size 432x288 with 1 Axes>"
      ]
     },
     "metadata": {
      "needs_background": "light"
     },
     "output_type": "display_data"
    },
    {
     "data": {
      "image/png": "[encoded data removed]",
      "text/plain": [
       "<Figure size 432x288 with 1 Axes>"
      ]
     },
     "metadata": {
      "needs_background": "light"
     },
     "output_type": "display_data"
    }
   ],
   "source": [
    "im_fft = np.fft.fft2(my_im[0,:,:])\n",
    "im_fft_shft = np.fft.fftshift(im_fft)\n",
    "# im_fft = np.fft.fftshift(my_im)\n",
    "plt.imshow(np.abs(im_fft_shft))\n",
    "plt.figure(2)\n",
    "plt.imshow(np.abs(im_fft))"
   ]
  }
 ],
 "metadata": {
  "kernelspec": {
   "display_name": "Python 3.9.12 ('m25-py39')",
   "language": "python",
   "name": "python3"
  },
  "language_info": {
   "codemirror_mode": {
    "name": "ipython",
    "version": 3
   },
   "file_extension": ".py",
   "mimetype": "text/x-python",
   "name": "python",
   "nbconvert_exporter": "python",
   "pygments_lexer": "ipython3",
   "version": "3.9.12"
  },
  "orig_nbformat": 4,
  "vscode": {
   "interpreter": {
    "hash": "9be5e794d8e51b75dcf6af525bf9de7025a0bd78f2384e708a44e57ede3e6257"
   }
  }
 },
 "nbformat": 4,
 "nbformat_minor": 2
}
