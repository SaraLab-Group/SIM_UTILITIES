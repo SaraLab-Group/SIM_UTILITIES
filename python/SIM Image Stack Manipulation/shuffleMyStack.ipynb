{
 "cells": [
  {
   "cell_type": "code",
   "execution_count": 75,
   "metadata": {},
   "outputs": [],
   "source": [
    "import combine_stacks as cs"
   ]
  },
  {
   "cell_type": "code",
   "execution_count": 76,
   "metadata": {},
   "outputs": [
    {
     "name": "stdout",
     "output_type": "stream",
     "text": [
      "lateral_scale: 0.4861111111111111\n",
      "(9, 3, 7, 1, 513, 513)\n",
      "(9, 513, 513)\n",
      "(27, 3, 7, 1, 513, 513)\n",
      "1.1508167\n",
      "1.1508167\n",
      "0.91179264\n"
     ]
    }
   ],
   "source": [
    "path = '/run/media/imaging/RawHeadRex/SIM_Data/SIM Code Stuff/OTF_SIMULATION/Single Bead/9 plane spacings/735nm/'\n",
    "filename = 'single_centered_point_488nm_point_7_phase_half_period_35nm_planes_plane1.tif'\n",
    "\n",
    "system_pix_size = 72\n",
    "sample_pix_size = 35\n",
    "\n",
    "lateral_scale = sample_pix_size/system_pix_size\n",
    "print('lateral_scale: ' + str(lateral_scale))\n",
    "\n",
    "planes = 9\n",
    "angles = 3\n",
    "phases = 7\n",
    "\n",
    "cs.combine_stacks(path, filename, angles, phases, planes, True, lateral_scale)"
   ]
  }
 ],
 "metadata": {
  "kernelspec": {
   "display_name": "opencv",
   "language": "python",
   "name": "python3"
  },
  "language_info": {
   "codemirror_mode": {
    "name": "ipython",
    "version": 3
   },
   "file_extension": ".py",
   "mimetype": "text/x-python",
   "name": "python",
   "nbconvert_exporter": "python",
   "pygments_lexer": "ipython3",
   "version": "3.9.12"
  },
  "orig_nbformat": 4,
  "vscode": {
   "interpreter": {
    "hash": "df3b62eb3fcd55bd85391273c2032366852404f75990c76ef515d32f5d736121"
   }
  }
 },
 "nbformat": 4,
 "nbformat_minor": 2
}
