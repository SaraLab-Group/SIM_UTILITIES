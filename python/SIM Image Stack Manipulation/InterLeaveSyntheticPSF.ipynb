{
 "cells": [
  {
   "cell_type": "markdown",
   "metadata": {},
   "source": [
    "Inter Leave PSF stack"
   ]
  },
  {
   "cell_type": "code",
   "execution_count": 1,
   "metadata": {},
   "outputs": [],
   "source": [
    "import tifffile\n",
    "import math\n",
    "import numpy as np\n",
    "import ComputeGaussianPSF as CG\n",
    "\n",
    "import matplotlib.pyplot as plt"
   ]
  },
  {
   "cell_type": "code",
   "execution_count": 2,
   "metadata": {},
   "outputs": [],
   "source": [
    "filepath = '/home/imaging/Documents/MATLAB/sine_pattern_utility/New Folder/'\n",
    "filename = '488nm_10pix' #don't include .tif suffix\n",
    "my_im = tifffile.imread(filepath + filename + '.tif')"
   ]
  },
  {
   "cell_type": "code",
   "execution_count": 7,
   "metadata": {},
   "outputs": [
    {
     "name": "stdout",
     "output_type": "stream",
     "text": [
      "(7680, 512, 512)\n",
      "7680\n",
      "512\n",
      "512\n",
      "(7680, 512, 512)\n"
     ]
    }
   ],
   "source": [
    "print(my_im.shape)\n",
    "dims = my_im.shape\n",
    "print(dims[0])\n",
    "print(dims[1])\n",
    "print(dims[2])\n",
    "a = (np.zeros_like(my_im)).astype(np.uint16)\n",
    "print(a.shape)"
   ]
  },
  {
   "cell_type": "code",
   "execution_count": 8,
   "metadata": {},
   "outputs": [],
   "source": [
    "for i in range(dims[0]//15):\n",
    "    for j in range(15):\n",
    "        a[i*15 + j , :, :] = my_im[j*512 + i,:,:]"
   ]
  },
  {
   "cell_type": "code",
   "execution_count": null,
   "metadata": {},
   "outputs": [],
   "source": [
    "tifffile.imwrite(filepath + filename + '_interleved.tif', a, imagej=True)"
   ]
  }
 ],
 "metadata": {
  "kernelspec": {
   "display_name": "Python 3",
   "language": "python",
   "name": "python3"
  },
  "language_info": {
   "codemirror_mode": {
    "name": "ipython",
    "version": 3
   },
   "file_extension": ".py",
   "mimetype": "text/x-python",
   "name": "python",
   "nbconvert_exporter": "python",
   "pygments_lexer": "ipython3",
   "version": "3.10.9 (main, Dec  7 2022, 00:00:00) [GCC 12.2.1 20221121 (Red Hat 12.2.1-4)]"
  },
  "orig_nbformat": 4,
  "vscode": {
   "interpreter": {
    "hash": "e7370f93d1d0cde622a1f8e1c04877d8463912d04d973331ad4851f04de6915a"
   }
  }
 },
 "nbformat": 4,
 "nbformat_minor": 2
}
