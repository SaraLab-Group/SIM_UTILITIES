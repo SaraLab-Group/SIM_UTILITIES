{
 "cells": [
  {
   "cell_type": "code",
   "execution_count": 4,
   "metadata": {},
   "outputs": [],
   "source": [
    "import tifffile\n",
    "import math\n",
    "import numpy as np\n",
    "import ComputeGaussianPSF as CG\n",
    "\n",
    "import matplotlib.pyplot as plt"
   ]
  },
  {
   "cell_type": "code",
   "execution_count": 5,
   "metadata": {},
   "outputs": [],
   "source": [
    "filepath = '/run/media/imaging/RawHeadRex/SIM_Data/SIM Code Stuff/OTF_SIMULATION/Filaments/Super 7 850nm 35nm pix/'\n",
    "filename1 = '7phase_stack_Filaments_-15d' #don't include .tif suffix\n",
    "filename2 = '7phase_stack_Filaments_45d'\n",
    "filename3 = '7phase_stack_Filaments_105d'\n",
    "out_file = 'super_stack_Filaments_35nm axial'\n",
    "my_im1 = tifffile.imread(filepath + filename1 + '.tif')\n",
    "my_im2 = tifffile.imread(filepath + filename2 + '.tif')\n",
    "my_im3 = tifffile.imread(filepath + filename3 + '.tif')"
   ]
  },
  {
   "cell_type": "code",
   "execution_count": 6,
   "metadata": {},
   "outputs": [],
   "source": [
    "dims = my_im1.shape\n",
    "phases = 7\n",
    "angles = 3\n",
    "out_ims = (np.zeros((dims[0]*3, dims[1], dims[2]))).astype(my_im2.dtype)\n",
    "for i in range(dims[0]//phases):\n",
    "    for j in range(phases):\n",
    "        out_ims[i*phases*angles + j,:,:] = my_im1[i*phases + j,:,:]\n",
    "        out_ims[i*phases*angles + phases + j,:,:] = my_im2[i*phases + j,:,:]\n",
    "        out_ims[i*phases*angles + phases*2 + j,:,:] = my_im3[i*phases + j,:,:]\n",
    "\n",
    "tifffile.imwrite(filepath + out_file + '.tif', out_ims)\n"
   ]
  },
  {
   "attachments": {},
   "cell_type": "markdown",
   "metadata": {},
   "source": []
  }
 ],
 "metadata": {
  "kernelspec": {
   "display_name": "Python 3.9.12 ('m25-py39')",
   "language": "python",
   "name": "python3"
  },
  "language_info": {
   "codemirror_mode": {
    "name": "ipython",
    "version": 3
   },
   "file_extension": ".py",
   "mimetype": "text/x-python",
   "name": "python",
   "nbconvert_exporter": "python",
   "pygments_lexer": "ipython3",
   "version": "3.9.12"
  },
  "orig_nbformat": 4,
  "vscode": {
   "interpreter": {
    "hash": "9be5e794d8e51b75dcf6af525bf9de7025a0bd78f2384e708a44e57ede3e6257"
   }
  }
 },
 "nbformat": 4,
 "nbformat_minor": 2
}
