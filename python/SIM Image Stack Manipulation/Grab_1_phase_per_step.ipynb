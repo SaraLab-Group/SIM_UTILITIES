{
 "cells": [
  {
   "cell_type": "code",
   "execution_count": null,
   "metadata": {},
   "outputs": [],
   "source": []
  },
  {
   "cell_type": "code",
   "execution_count": 97,
   "metadata": {},
   "outputs": [],
   "source": [
    "import tifffile\n",
    "import os\n",
    "import math\n",
    "import cv2\n",
    "import numpy as np\n",
    "import ComputeGaussianPSF as CG\n",
    "\n",
    "import matplotlib.pyplot as plt"
   ]
  },
  {
   "cell_type": "code",
   "execution_count": 98,
   "metadata": {},
   "outputs": [],
   "source": [
    "filepath = '/home/imaging/Documents/MATLAB_SIM/OTF_SIMULATION/single point/7phase single point 3phase 144nm 26p5nm scaled/angle0/'\n",
    "filename = 'single_centered_point_488nm_point_7_phase_26p5nm_plane1_angle0.tif'\n",
    "\n"
   ]
  },
  {
   "cell_type": "code",
   "execution_count": 99,
   "metadata": {},
   "outputs": [
    {
     "name": "stdout",
     "output_type": "stream",
     "text": [
      "single_centered_point_488nm_point_7_phase_26p5nm_plane1_angle0.tif\n",
      "(7, 513, 513)\n",
      "7\n",
      "513\n",
      "513\n",
      "single_centered_point_488nm_point_7_phase_26p5nm_plane2_angle0.tif\n",
      "(7, 513, 513)\n",
      "7\n",
      "513\n",
      "513\n",
      "single_centered_point_488nm_point_7_phase_26p5nm_plane3_angle0.tif\n",
      "(7, 513, 513)\n",
      "7\n",
      "513\n",
      "513\n",
      "single_centered_point_488nm_point_7_phase_26p5nm_plane4_angle0.tif\n",
      "(7, 513, 513)\n",
      "7\n",
      "513\n",
      "513\n",
      "single_centered_point_488nm_point_7_phase_26p5nm_plane5_angle0.tif\n",
      "(7, 513, 513)\n",
      "7\n",
      "513\n",
      "513\n",
      "single_centered_point_488nm_point_7_phase_26p5nm_plane6_angle0.tif\n",
      "(7, 513, 513)\n",
      "7\n",
      "513\n",
      "513\n",
      "single_centered_point_488nm_point_7_phase_26p5nm_plane7_angle0.tif\n",
      "(7, 513, 513)\n",
      "7\n",
      "513\n",
      "513\n",
      "single_centered_point_488nm_point_7_phase_26p5nm_plane8_angle0.tif\n",
      "(7, 513, 513)\n",
      "7\n",
      "513\n",
      "513\n",
      "single_centered_point_488nm_point_7_phase_26p5nm_plane9_angle0.tif\n",
      "(7, 513, 513)\n",
      "7\n",
      "513\n",
      "513\n"
     ]
    }
   ],
   "source": [
    "mfm_planes = 9\n",
    "phases = 7\n",
    "for kk in range(9):\n",
    "    string_length = len(filename)\n",
    "    current_filename = filename[0:-12] + str(kk + 1) + filename[string_length - 11:]\n",
    "    print(current_filename)\n",
    "    my_im = tifffile.imread(filepath + current_filename)\n",
    "\n",
    "    print(my_im.shape)\n",
    "    dims = my_im.shape\n",
    "    print(dims[0])\n",
    "    print(dims[1])\n",
    "    print(dims[2])\n",
    "    \n",
    "    a = (np.zeros((dims[0]//phases,dims[1], dims[2]))).astype(my_im.dtype)\n",
    "    #print(a.shape)\n",
    "    phase = 0\n",
    "    # for i in range(15):\n",
    "    #     for j in range(4):\n",
    "    #         a[i + j*15,:,:] = my_im[i + j*15,:,:]\n",
    "\n",
    "    mode = 0o777\n",
    "\n",
    "    while(phase < phases):\n",
    "        outFolder = filepath + 'phase' + str(phase) + '/'\n",
    "        # outfile = outFolder +filename[0:lend(filename) - 4] + 'phase' + str(phase) + '.tif'\n",
    "        if(os.path.exists(outFolder) == False):\n",
    "            os.mkdir(outFolder, mode)\n",
    "        for i in range(dims[0]//phases):\n",
    "            a[i,:,:] = my_im[i*phases + phase,:,:]\n",
    "\n",
    "        \n",
    "        tifffile.imwrite(outFolder + current_filename[0:len(current_filename) - 4] + '_phase_' + str(phase) + '.tif', a)\n",
    "        phase += 1\n",
    "\n",
    "\n",
    "    # plt.imshow(a[2,0,1]) \n",
    "    #outpath = '/run/media/imaging/Elmo_Pro/SIM_Data/2022_June_SIM_data/Max_SIM_rig/220621_psf/bead_100nm_16p6aotf_65nmstep_4umrange_3dsim_1/'\n",
    "    # with tifffile.TiffWriter('temp.tif') as tif:\n",
    "    #   for i in range(4):\n",
    "    #     filename = f\"image_{i}\"\n",
    "    #     img = np.random.randint(0, 1023, (256, 256), 'float32')\n",
    "    #     tif.save(img, photometric='minisblack', description=filename)\n",
    "\n"
   ]
  },
  {
   "cell_type": "code",
   "execution_count": 100,
   "metadata": {},
   "outputs": [
    {
     "data": {
      "text/plain": [
       "<matplotlib.image.AxesImage at 0x7f1c9fd28d30>"
      ]
     },
     "execution_count": 100,
     "metadata": {},
     "output_type": "execute_result"
    },
    {
     "data": {
      "image/png": "[encoded data removed]",
      "text/plain": [
       "<Figure size 432x288 with 1 Axes>"
      ]
     },
     "metadata": {
      "needs_background": "light"
     },
     "output_type": "display_data"
    },
    {
     "data": {
      "image/png": "[encoded data removed]",
      "text/plain": [
       "<Figure size 432x288 with 1 Axes>"
      ]
     },
     "metadata": {
      "needs_background": "light"
     },
     "output_type": "display_data"
    }
   ],
   "source": [
    "im_fft = np.fft.fft2(my_im[0,:,:])\n",
    "im_fft_shft = np.fft.fftshift(im_fft)\n",
    "# im_fft = np.fft.fftshift(my_im)\n",
    "plt.imshow(np.abs(im_fft_shft))\n",
    "plt.figure(2)\n",
    "plt.imshow(np.abs(im_fft))"
   ]
  }
 ],
 "metadata": {
  "kernelspec": {
   "display_name": "opencv",
   "language": "python",
   "name": "python3"
  },
  "language_info": {
   "codemirror_mode": {
    "name": "ipython",
    "version": 3
   },
   "file_extension": ".py",
   "mimetype": "text/x-python",
   "name": "python",
   "nbconvert_exporter": "python",
   "pygments_lexer": "ipython3",
   "version": "3.10.4"
  },
  "orig_nbformat": 4,
  "vscode": {
   "interpreter": {
    "hash": "df3b62eb3fcd55bd85391273c2032366852404f75990c76ef515d32f5d736121"
   }
  }
 },
 "nbformat": 4,
 "nbformat_minor": 2
}
