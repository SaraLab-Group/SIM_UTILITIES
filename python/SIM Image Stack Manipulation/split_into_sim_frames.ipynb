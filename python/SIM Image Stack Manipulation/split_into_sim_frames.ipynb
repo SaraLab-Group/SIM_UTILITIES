{
 "cells": [
  {
   "cell_type": "code",
   "execution_count": null,
   "metadata": {},
   "outputs": [],
   "source": [
    "import tifffile\n",
    "import math\n",
    "import numpy as np\n",
    "import ComputeGaussianPSF as CG\n",
    "\n",
    "import matplotlib.pyplot as plt"
   ]
  },
  {
   "cell_type": "code",
   "execution_count": null,
   "metadata": {},
   "outputs": [],
   "source": [
    "filepath = 'D:/SIM_Data/Antone/2022_8_5/Synaptonemal 125nm steps 2um 3fps 488 Hammy2/'\n",
    "filename = 'Synaptonemal 125nm steps 2um 3fps 488 Hamamatsu_1_MMStack_Pos0.ome' #don't include .tif suffix\n",
    "my_im = tifffile.imread(filepath + filename + '.tif')\n"
   ]
  },
  {
   "cell_type": "code",
   "execution_count": null,
   "metadata": {},
   "outputs": [],
   "source": [
    "\n",
    "print(my_im.shape)\n",
    "dims = my_im.shape\n",
    "print(dims[0])\n",
    "print(dims[1])\n",
    "print(dims[2])\n",
    "#a = (np.zeros_like(my_im)).astype(np.uint16)\n",
    "#print(a.shape)\n",
    "offset = 0\n",
    "# for i in range(15):\n",
    "#     for j in range(4):\n",
    "#         a[i + j*15,:,:] = my_im[i + j*15,:,:]\n",
    "\n",
    "\n",
    "\n",
    "# a = np.reshape(my_im,(dims[0]//15,3,5,dims[1],dims[2]))\n",
    "\n",
    "#for i in range():\n",
    "# angle0 = np.zeros((dims[0]//15, 1,5,dims[1],dims[2])).astype(np.uint16)\n",
    "# angle1 = np.zeros((dims[0]//15, 1,5,dims[1],dims[2])).astype(np.uint16)\n",
    "# angle2 = np.zeros((dims[0]//15, 1,5,dims[1],dims[2])).astype(np.uint16)\n",
    "\n",
    "for i in range(dims[0]//15):\n",
    "    tifffile.imwrite(filepath + str(i) + '.tif', my_im[i*15:(i+1)*15,:,:])  \n",
    "\n",
    "# plt.imshow(a[2,0,1]) \n",
    "#outpath = '/run/media/imaging/Elmo_Pro/SIM_Data/2022_June_SIM_data/Max_SIM_rig/220621_psf/bead_100nm_16p6aotf_65nmstep_4umrange_3dsim_1/'\n",
    "# with tifffile.TiffWriter('temp.tif') as tif:\n",
    "#   for i in range(4):\n",
    "#     filename = f\"image_{i}\"\n",
    "#     img = np.random.randint(0, 1023, (256, 256), 'uint16')\n",
    "#     tif.save(img, photometric='minisblack', description=filename)\n",
    "\n",
    "# tifffile.imwrite(filepath + filename + '_angle1.tif', angle1)\n",
    "# tifffile.imwrite(filepath + filename + '_angle2.tif', angle2)"
   ]
  },
  {
   "cell_type": "code",
   "execution_count": null,
   "metadata": {},
   "outputs": [],
   "source": [
    "im_fft = np.fft.fft2(my_im[0,:,:])\n",
    "im_fft_shft = np.fft.fftshift(im_fft)\n",
    "# im_fft = np.fft.fftshift(my_im)\n",
    "plt.imshow(np.abs(im_fft_shft))\n",
    "plt.figure(2)\n",
    "plt.imshow(np.abs(im_fft))"
   ]
  }
 ],
 "metadata": {
  "kernelspec": {
   "display_name": "Python 3.9.12 ('base')",
   "language": "python",
   "name": "python3"
  },
  "language_info": {
   "codemirror_mode": {
    "name": "ipython",
    "version": 3
   },
   "file_extension": ".py",
   "mimetype": "text/x-python",
   "name": "python",
   "nbconvert_exporter": "python",
   "pygments_lexer": "ipython3",
   "version": "3.9.12"
  },
  "orig_nbformat": 4,
  "vscode": {
   "interpreter": {
    "hash": "bb468c6ec33ac23c0aba1501eca3a50f6bdb02e26efc183fcedc67fc0283e723"
   }
  }
 },
 "nbformat": 4,
 "nbformat_minor": 2
}
