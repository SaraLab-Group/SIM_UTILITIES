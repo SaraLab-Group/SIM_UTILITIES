{
 "cells": [
  {
   "cell_type": "code",
   "execution_count": 73,
   "metadata": {},
   "outputs": [],
   "source": [
    "import tifffile\n",
    "import math\n",
    "import numpy as np\n",
    "import ComputeGaussianPSF as CG\n",
    "\n",
    "import matplotlib.pyplot as plt"
   ]
  },
  {
   "attachments": {},
   "cell_type": "markdown",
   "metadata": {},
   "source": [
    "This code is for creating single phase substacks from 9 sim planes"
   ]
  },
  {
   "cell_type": "code",
   "execution_count": 74,
   "metadata": {},
   "outputs": [],
   "source": [
    "filepath = 'D:\\\\SIM_Data\\\\SIM Code Stuff\\\\OTF_SIMULATION\\\\Single Bead\\\\MFM\\\\1um single angle\\\\phase0\\\\stacked_planes\\\\'\n",
    "# writepath = 'stacked_planes\\\\'\n",
    "out_filename = 'axial_phase_' #don't include .tif suffix\n",
    "ph0 = tifffile.imread(filepath + 'phase0.tif')\n",
    "ph1 = tifffile.imread(filepath + 'phase1.tif')\n",
    "ph2 = tifffile.imread(filepath + 'phase2.tif')\n",
    "\n",
    "\n",
    "IS_SIM = True\n"
   ]
  },
  {
   "cell_type": "code",
   "execution_count": 75,
   "metadata": {},
   "outputs": [
    {
     "name": "stdout",
     "output_type": "stream",
     "text": [
      "(45, 513, 513)\n",
      "float32\n",
      "45\n",
      "513\n",
      "513\n"
     ]
    }
   ],
   "source": [
    "\n",
    "print(ph0.shape)\n",
    "print(ph0.dtype)\n",
    "dims = ph0.shape\n",
    "print(dims[0])\n",
    "print(dims[1])\n",
    "print(dims[2])\n",
    "\n",
    "# a = np.zeros((dims[1], dims[1], dims[2]*3)).astype(ph0.dtype)\n",
    "\n",
    "# upper_z = dims[1]//2 - dims[0]//2\n",
    "# lower_z = dims[1]//2 + 1 + dims[0]//2\n",
    "\n",
    "# for i in range(dims[2]):\n",
    "#     a[upper_z:lower_z,:,i*3] = ph0[:,:,i]\n",
    "#     a[upper_z:lower_z,:,i*3 + 1] = ph1[:,:,i]\n",
    "#     a[upper_z:lower_z,:,i*3 + 2] = ph2[:,:,i]\n",
    "# #     a[3,:,:] = x4[i,:,:]\n",
    "# #     a[4,:,:] = x5[i,:,:]\n",
    "# #     a[5,:,:] = x6[i,:,:]\n",
    "# #     a[6,:,:] = x7[i,:,:]\n",
    "# #     a[7,:,:] = x8[i,:,:]\n",
    "# #     a[8,:,:] = x9[i,:,:]\n",
    "# tifffile.imwrite(filepath + out_filename + '.tif', a)\n",
    "\n",
    "a = np.zeros((dims[0], dims[1], dims[2]*3)).astype(ph0.dtype)\n",
    "\n",
    "upper_z = dims[1]//2 - dims[0]//2\n",
    "lower_z = dims[1]//2 + 1 + dims[0]//2\n",
    "\n",
    "for i in range(dims[2]):\n",
    "    a[:,:,i*3] = ph0[:,:,i]\n",
    "    a[:,:,i*3 + 1] = ph1[:,:,i]\n",
    "    a[:,:,i*3 + 2] = ph2[:,:,i]\n",
    "#     a[3,:,:] = x4[i,:,:]\n",
    "#     a[4,:,:] = x5[i,:,:]\n",
    "#     a[5,:,:] = x6[i,:,:]\n",
    "#     a[6,:,:] = x7[i,:,:]\n",
    "#     a[7,:,:] = x8[i,:,:]\n",
    "#     a[8,:,:] = x9[i,:,:]\n",
    "tifffile.imwrite(filepath + out_filename + 'less_big.tif', a)\n",
    "\n",
    "# frame_div = 1\n",
    "\n",
    "\n",
    "\n",
    "# if IS_SIM:\n",
    "#     frame_div = 15\n",
    "\n",
    "# a = np.zeros((9*frame_div,dims[2],dims[1])).astype(np.uint16)\n",
    "\n",
    "# for i in range(dims[0]//frame_div):\n",
    "#     for j in range(frame_div):\n",
    "#         a[0*frame_div+j,:,:] = BL[i*frame_div + j,:,:]\n",
    "#         a[1*frame_div+j,:,:] = BM[i*frame_div + j,:,:]\n",
    "#         a[2*frame_div+j,:,:] = BR[i*frame_div + j,:,:]\n",
    "#         a[3*frame_div+j,:,:] = ML[i*frame_div + j,:,:]\n",
    "#         a[4*frame_div+j,:,:] = MM[i*frame_div + j,:,:]\n",
    "#         a[5*frame_div+j,:,:] = MR[i*frame_div + j,:,:]\n",
    "#         a[6*frame_div+j,:,:] = TL[i*frame_div + j,:,:]\n",
    "#         a[7*frame_div+j,:,:] = TM[i*frame_div + j,:,:]\n",
    "#         a[8*frame_div+j,:,:] = TR[i*frame_div + j,:,:]\n",
    "    \n",
    "#     tifffile.imwrite(filepath + writepath + 'stack' + str(i) + '.tif', a)\n"
   ]
  }
 ],
 "metadata": {
  "kernelspec": {
   "display_name": "Python 3",
   "language": "python",
   "name": "python3"
  },
  "language_info": {
   "codemirror_mode": {
    "name": "ipython",
    "version": 3
   },
   "file_extension": ".py",
   "mimetype": "text/x-python",
   "name": "python",
   "nbconvert_exporter": "python",
   "pygments_lexer": "ipython3",
   "version": "3.10.9 (main, Dec  7 2022, 00:00:00) [GCC 12.2.1 20221121 (Red Hat 12.2.1-4)]"
  },
  "orig_nbformat": 4,
  "vscode": {
   "interpreter": {
    "hash": "e7370f93d1d0cde622a1f8e1c04877d8463912d04d973331ad4851f04de6915a"
   }
  }
 },
 "nbformat": 4,
 "nbformat_minor": 2
}
