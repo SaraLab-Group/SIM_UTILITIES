{
 "cells": [
  {
   "cell_type": "code",
   "execution_count": 10,
   "metadata": {},
   "outputs": [],
   "source": [
    "import tifffile\n",
    "import math\n",
    "import numpy as np\n",
    "import ComputeGaussianPSF as CG\n",
    "\n",
    "import matplotlib.pyplot as plt"
   ]
  },
  {
   "cell_type": "code",
   "execution_count": 11,
   "metadata": {},
   "outputs": [
    {
     "name": "stderr",
     "output_type": "stream",
     "text": [
      "TiffPage 0: TypeError: read_bytes() missing 3 required positional arguments: 'dtype', 'count', and 'offsetsize'\n"
     ]
    }
   ],
   "source": [
    "filepath = 'E:\\\\Code\\\\OTF_SIMULATION\\\\'\n",
    "filename = 'single_bead_r1_513volog_otf_modulated-16bit_redux-trim.tif' #don't include .tif suffix\n",
    "my_im = tifffile.imread(filepath + filename)\n"
   ]
  },
  {
   "cell_type": "code",
   "execution_count": 12,
   "metadata": {},
   "outputs": [
    {
     "name": "stdout",
     "output_type": "stream",
     "text": [
      "(2550, 256, 256)\n",
      "2550\n",
      "256\n",
      "256\n",
      "(1275, 256, 256)\n",
      "0\n",
      "30\n",
      "60\n",
      "90\n",
      "120\n",
      "150\n",
      "180\n",
      "210\n",
      "240\n",
      "270\n",
      "300\n",
      "330\n",
      "360\n",
      "390\n",
      "420\n",
      "450\n",
      "480\n",
      "510\n",
      "540\n",
      "570\n",
      "600\n",
      "630\n",
      "660\n",
      "690\n",
      "720\n",
      "750\n",
      "780\n",
      "810\n",
      "840\n",
      "870\n",
      "900\n",
      "930\n",
      "960\n",
      "990\n",
      "1020\n",
      "1050\n",
      "1080\n",
      "1110\n",
      "1140\n",
      "1170\n",
      "1200\n",
      "1230\n",
      "1260\n",
      "1290\n",
      "1320\n",
      "1350\n",
      "1380\n",
      "1410\n",
      "1440\n",
      "1470\n",
      "1500\n",
      "1530\n",
      "1560\n",
      "1590\n",
      "1620\n",
      "1650\n",
      "1680\n",
      "1710\n",
      "1740\n",
      "1770\n",
      "1800\n",
      "1830\n",
      "1860\n",
      "1890\n",
      "1920\n",
      "1950\n",
      "1980\n",
      "2010\n",
      "2040\n",
      "2070\n",
      "2100\n",
      "2130\n",
      "2160\n",
      "2190\n",
      "2220\n",
      "2250\n",
      "2280\n",
      "2310\n",
      "2340\n",
      "2370\n",
      "2400\n",
      "2430\n",
      "2460\n",
      "2490\n",
      "2520\n"
     ]
    }
   ],
   "source": [
    "\n",
    "print(my_im.shape)\n",
    "dims = my_im.shape\n",
    "print(dims[0])\n",
    "print(dims[1])\n",
    "print(dims[2])\n",
    "# a = (np.zeros_like(my_im)).astype(np.uint16)\n",
    "#print(a.shape)\n",
    "offset = 0\n",
    "# for i in range(15):\n",
    "#     for j in range(4):\n",
    "#         a[i + j*15,:,:] = my_im[i + j*15,:,:]\n",
    "\n",
    "\n",
    "\n",
    "# a = np.reshape(my_im,(dims[0]//15,3,5,dims[1],dims[2]))\n",
    "\n",
    "b = (np.zeros((dims[0]//2,dims[1],dims[2]),dtype = np.uint16)).astype(np.uint16)\n",
    "print(b.shape)\n",
    "\n",
    "for i in range((dims[0]//15)//2):\n",
    "    print(2*i*15)\n",
    "    for j in range(15):\n",
    "        b[i*15 + j,:,:] = my_im[2*i*15 + j,:,:]\n",
    "\n",
    "\n",
    "# plt.imshow(a[2,0,1]) \n",
    "#outpath = '/run/media/imaging/Elmo_Pro/SIM_Data/2022_June_SIM_data/Max_SIM_rig/220621_psf/bead_100nm_16p6aotf_65nmstep_4umrange_3dsim_1/'\n",
    "# with tifffile.TiffWriter('temp.tif') as tif:\n",
    "#   for i in range(4):\n",
    "#     filename = f\"image_{i}\"\n",
    "#     img = np.random.randint(0, 1023, (256, 256), 'uint16')\n",
    "#     tif.save(img, photometric='minisblack', description=filename)\n",
    "tifffile.imwrite(filepath + filename[0:len(filename) - 4] + '_reduced_stack.tif', b)\n"
   ]
  },
  {
   "cell_type": "code",
   "execution_count": 13,
   "metadata": {},
   "outputs": [
    {
     "data": {
      "text/plain": [
       "<matplotlib.image.AxesImage at 0x2a81d1e67c0>"
      ]
     },
     "execution_count": 13,
     "metadata": {},
     "output_type": "execute_result"
    },
    {
     "data": {
      "image/png": "[encoded data removed]",
      "text/plain": [
       "<Figure size 432x288 with 1 Axes>"
      ]
     },
     "metadata": {
      "needs_background": "light"
     },
     "output_type": "display_data"
    },
    {
     "data": {
      "image/png": "[encoded data removed]",
      "text/plain": [
       "<Figure size 432x288 with 1 Axes>"
      ]
     },
     "metadata": {
      "needs_background": "light"
     },
     "output_type": "display_data"
    }
   ],
   "source": [
    "im_fft = np.fft.fft2(my_im[0,:,:])\n",
    "im_fft_shft = np.fft.fftshift(im_fft)\n",
    "# im_fft = np.fft.fftshift(my_im)\n",
    "plt.imshow(np.abs(im_fft_shft))\n",
    "plt.figure(2)\n",
    "plt.imshow(np.abs(im_fft))"
   ]
  }
 ],
 "metadata": {
  "kernelspec": {
   "display_name": "Python 3.9.12 ('base')",
   "language": "python",
   "name": "python3"
  },
  "language_info": {
   "codemirror_mode": {
    "name": "ipython",
    "version": 3
   },
   "file_extension": ".py",
   "mimetype": "text/x-python",
   "name": "python",
   "nbconvert_exporter": "python",
   "pygments_lexer": "ipython3",
   "version": "3.9.12"
  },
  "orig_nbformat": 4,
  "vscode": {
   "interpreter": {
    "hash": "bb468c6ec33ac23c0aba1501eca3a50f6bdb02e26efc183fcedc67fc0283e723"
   }
  }
 },
 "nbformat": 4,
 "nbformat_minor": 2
}
