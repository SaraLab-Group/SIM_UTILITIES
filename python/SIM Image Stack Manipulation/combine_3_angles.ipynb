{
 "cells": [
  {
   "cell_type": "code",
   "execution_count": 23,
   "metadata": {},
   "outputs": [],
   "source": [
    "import tifffile\n",
    "import math\n",
    "import cv2\n",
    "import numpy as np\n",
    "import ComputeGaussianPSF as CG\n",
    "\n",
    "import matplotlib.pyplot as plt"
   ]
  },
  {
   "attachments": {},
   "cell_type": "markdown",
   "metadata": {},
   "source": [
    "This code is for creating single phase substacks from 9 sim planes"
   ]
  },
  {
   "cell_type": "code",
   "execution_count": 24,
   "metadata": {},
   "outputs": [],
   "source": [
    "filepath = '/home/imaging/Documents/MATLAB_SIM/OTF_SIMULATION/single point/7phase single point 3phase 144nm 26p5nm scaled/'\n",
    "filepathOut = '/home/imaging/Documents/MATLAB_SIM/OTF_SIMULATION/single point/7phase single point 3phase 144nm 26p5nm scaled/'\n",
    "filepathEnd = '\\\\stacked_planes\\\\'\n",
    "# writepath = 'stacked_planes\\\\'\n",
    "# phase = 0\n",
    "# out_filename = 'lateral_stack_axial_phase' + str(phase) #don't include .tif suffix\n",
    "# ph0 = tifffile.imread(filepath + str(0) + filepathEnd + 'phase' + str(phase) + '.tif')\n",
    "# ph1 = tifffile.imread(filepath + str(1) + filepathEnd + 'phase' + str(phase) + '.tif')\n",
    "# ph2 = tifffile.imread(filepath + str(2) + filepathEnd + 'phase' + str(phase) + '.tif')\n",
    "# ph3 = tifffile.imread(filepath + str(3) + filepathEnd + 'phase' + str(phase) + '.tif')\n",
    "# ph4 = tifffile.imread(filepath + str(4) + filepathEnd + 'phase' + str(phase) + '.tif')\n",
    "phases = 7\n",
    "angles = 3\n",
    "phase = 0\n",
    "out_filename = 'lateral_stack_axial_phase' + 'FullStack' #don't include .tif suffix\n",
    "ang0 = tifffile.imread(filepath +  'lateral_stack_axial_phase_angle0' + '.tif')\n",
    "ang1 = tifffile.imread(filepath + 'lateral_stack_axial_phase_angle1' + '.tif')\n",
    "ang2 = tifffile.imread(filepath + 'lateral_stack_axial_phase_angle2' + '.tif')\n",
    "\n",
    "\n",
    "\n",
    "IS_SIM = True\n"
   ]
  },
  {
   "cell_type": "code",
   "execution_count": 25,
   "metadata": {},
   "outputs": [
    {
     "name": "stdout",
     "output_type": "stream",
     "text": [
      "(189, 257, 257)\n",
      "float32\n",
      "189\n",
      "257\n",
      "257\n"
     ]
    }
   ],
   "source": [
    "\n",
    "print(ang0.shape)\n",
    "print(ang0.dtype)\n",
    "dims = ang0.shape\n",
    "print(dims[0])\n",
    "print(dims[1])\n",
    "print(dims[2])\n",
    "\n",
    "reverse_stack = False\n",
    "\n",
    "a = np.zeros((dims[0]*angles, dims[1], dims[2])).astype(ang0.dtype)\n",
    "\n",
    "upper_z = dims[1]//2 + 1 - dims[0]//2\n",
    "lower_z = dims[1]//2 + 1 + dims[0]//2\n",
    "\n",
    "for i in range(dims[0]//phases):\n",
    "\n",
    "    a[i*phases*angles:i*phases*angles + phases,:,:] = ang0[i*phases:(i + 1)*phases,:,:]\n",
    "    a[i*phases*angles + phases: i*phases*angles + 2*phases,:,:] = ang1[i*phases:(i + 1)*phases,:,:]\n",
    "    a[i*phases*angles + phases*2: i*phases*angles + 3*phases,:,:] = ang2[i*phases:(i + 1)*phases,:,:]\n",
    "tifffile.imwrite(filepath + out_filename + '.tif', a)\n",
    "   \n",
    "\n",
    "\n",
    "    \n",
    "#     a[3,:,:] = x4[i,:,:]\n",
    "#     a[4,:,:] = x5[i,:,:]\n",
    "#     a[5,:,:] = x6[i,:,:]\n",
    "#     a[6,:,:] = x7[i,:,:]\n",
    "#     a[7,:,:] = x8[i,:,:]\n",
    "#     a[8,:,:] = x9[i,:,:]\n",
    "\n",
    "\n",
    "\n",
    "\n",
    "# frame_div = 1\n",
    "\n",
    "\n",
    "\n",
    "# if IS_SIM:\n",
    "#     frame_div = 15\n",
    "\n",
    "# a = np.zeros((9*frame_div,dims[2],dims[1])).astype(np.uint16)\n",
    "\n",
    "# for i in range(dims[0]//frame_div):\n",
    "#     for j in range(frame_div):\n",
    "#         a[0*frame_div+j,:,:] = BL[i*frame_div + j,:,:]\n",
    "#         a[1*frame_div+j,:,:] = BM[i*frame_div + j,:,:]\n",
    "#         a[2*frame_div+j,:,:] = BR[i*frame_div + j,:,:]\n",
    "#         a[3*frame_div+j,:,:] = ML[i*frame_div + j,:,:]\n",
    "#         a[4*frame_div+j,:,:] = MM[i*frame_div + j,:,:]\n",
    "#         a[5*frame_div+j,:,:] = MR[i*frame_div + j,:,:]\n",
    "#         a[6*frame_div+j,:,:] = TL[i*frame_div + j,:,:]\n",
    "#         a[7*frame_div+j,:,:] = TM[i*frame_div + j,:,:]\n",
    "#         a[8*frame_div+j,:,:] = TR[i*frame_div + j,:,:]\n",
    "    \n",
    "#     tifffile.imwrite(filepath + writepath + 'stack' + str(i) + '.tif', a)\n"
   ]
  }
 ],
 "metadata": {
  "kernelspec": {
   "display_name": "opencv",
   "language": "python",
   "name": "python3"
  },
  "language_info": {
   "codemirror_mode": {
    "name": "ipython",
    "version": 3
   },
   "file_extension": ".py",
   "mimetype": "text/x-python",
   "name": "python",
   "nbconvert_exporter": "python",
   "pygments_lexer": "ipython3",
   "version": "3.10.4"
  },
  "orig_nbformat": 4,
  "vscode": {
   "interpreter": {
    "hash": "df3b62eb3fcd55bd85391273c2032366852404f75990c76ef515d32f5d736121"
   }
  }
 },
 "nbformat": 4,
 "nbformat_minor": 2
}
