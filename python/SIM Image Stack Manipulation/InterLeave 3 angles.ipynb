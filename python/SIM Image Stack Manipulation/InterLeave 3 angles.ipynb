{
 "cells": [
  {
   "cell_type": "markdown",
   "metadata": {},
   "source": [
    "Inter Leave PSF stack"
   ]
  },
  {
   "cell_type": "code",
   "execution_count": 17,
   "metadata": {},
   "outputs": [],
   "source": [
    "import tifffile\n",
    "import math\n",
    "import numpy as np\n",
    "import ComputeGaussianPSF as CG\n",
    "\n",
    "import matplotlib.pyplot as plt"
   ]
  },
  {
   "cell_type": "code",
   "execution_count": 18,
   "metadata": {},
   "outputs": [
    {
     "name": "stdout",
     "output_type": "stream",
     "text": [
      "D:\\SIM_Data\\SIM Code Stuff\\OTF_SIMULATION\\bead volume\\data to tweak\\filaments 2\\angle0\\lateral_stack_axial_phase0.tif\n"
     ]
    }
   ],
   "source": [
    "filepath = 'D:\\\\SIM_Data\\\\SIM Code Stuff\\\\OTF_SIMULATION\\\\bead volume\\\\data to tweak\\\\filaments 2\\\\angle'\n",
    "print(filepath + str(0) + '\\\\' + 'lateral_stack_axial_phase0' + '.tif')\n",
    "# filename = '488nm_10pix' #don't include .tif suffix\n",
    "ang0 = tifffile.imread('D:\\\\SIM_Data\\\\SIM Code Stuff\\\\OTF_SIMULATION\\\\bead volume\\\\data to tweak\\\\filaments 2\\\\angle0\\\\lateral_stack_axial_phase_newdole0.tif')\n",
    "ang1 = tifffile.imread(filepath + str(1) + '\\\\' + 'lateral_stack_axial_phase_newdole1' + '.tif')\n",
    "ang2 = tifffile.imread(filepath + str(2) + '\\\\' + 'lateral_stack_axial_phase_newdole2' + '.tif')"
   ]
  },
  {
   "cell_type": "code",
   "execution_count": 19,
   "metadata": {},
   "outputs": [
    {
     "name": "stdout",
     "output_type": "stream",
     "text": [
      "(275, 257, 257)\n",
      "275\n",
      "257\n",
      "257\n",
      "(825, 257, 257)\n",
      "55\n"
     ]
    }
   ],
   "source": [
    "print(ang0.shape)\n",
    "dims = ang0.shape\n",
    "print(dims[0])\n",
    "print(dims[1])\n",
    "print(dims[2])\n",
    "a = (np.zeros((dims[0]*3, dims[1], dims[2]))).astype(ang0.dtype)\n",
    "print(a.shape)\n",
    "print(a.shape[0]//15)"
   ]
  },
  {
   "cell_type": "code",
   "execution_count": 20,
   "metadata": {},
   "outputs": [
    {
     "name": "stdout",
     "output_type": "stream",
     "text": [
      "0\n",
      "1\n",
      "2\n",
      "3\n",
      "4\n",
      "5\n",
      "6\n",
      "7\n",
      "8\n",
      "9\n",
      "10\n",
      "11\n",
      "12\n",
      "13\n",
      "14\n",
      "15\n",
      "16\n",
      "17\n",
      "18\n",
      "19\n",
      "20\n",
      "21\n",
      "22\n",
      "23\n",
      "24\n",
      "25\n",
      "26\n",
      "27\n",
      "28\n",
      "29\n",
      "30\n",
      "31\n",
      "32\n",
      "33\n",
      "34\n",
      "35\n",
      "36\n",
      "37\n",
      "38\n",
      "39\n",
      "40\n",
      "41\n",
      "42\n",
      "43\n",
      "44\n",
      "45\n",
      "46\n",
      "47\n",
      "48\n",
      "49\n",
      "50\n",
      "51\n",
      "52\n",
      "53\n",
      "54\n"
     ]
    }
   ],
   "source": [
    "for i in range(a.shape[0]//15):\n",
    "        print(i)\n",
    "        a[i*15:i*15 + 5 , :, :] = ang0[i*5:i*5 + 5,:,:]\n",
    "        a[i*15 + 5:i*15 + 10 , :, :] = ang1[i*5:i*5 + 5,:,:]\n",
    "        a[i*15 + 10:i*15 + 15 , :, :] = ang2[i*5:i*5 + 5,:,:]\n",
    "        "
   ]
  },
  {
   "cell_type": "code",
   "execution_count": 21,
   "metadata": {},
   "outputs": [],
   "source": [
    "tifffile.imwrite('D:\\\\SIM_Data\\\\SIM Code Stuff\\\\OTF_SIMULATION\\\\bead volume\\\\data to tweak\\\\filaments 2\\\\angle0\\\\the_stack2.tif', a, imagej=True)"
   ]
  }
 ],
 "metadata": {
  "kernelspec": {
   "display_name": "base",
   "language": "python",
   "name": "python3"
  },
  "language_info": {
   "codemirror_mode": {
    "name": "ipython",
    "version": 3
   },
   "file_extension": ".py",
   "mimetype": "text/x-python",
   "name": "python",
   "nbconvert_exporter": "python",
   "pygments_lexer": "ipython3",
   "version": "3.9.12"
  },
  "orig_nbformat": 4,
  "vscode": {
   "interpreter": {
    "hash": "bb468c6ec33ac23c0aba1501eca3a50f6bdb02e26efc183fcedc67fc0283e723"
   }
  }
 },
 "nbformat": 4,
 "nbformat_minor": 2
}
